{
 "cells": [
  {
   "cell_type": "code",
   "execution_count": 2,
   "metadata": {},
   "outputs": [],
   "source": [
    "#Importing libraries\n",
    "from urllib.request import urlopen\n",
    "import pandas as pd\n",
    "import numpy as np\n",
    "import time\n",
    "import re"
   ]
  },
  {
   "cell_type": "code",
   "execution_count": 5,
   "metadata": {},
   "outputs": [
    {
     "name": "stdout",
     "output_type": "stream",
     "text": [
      "Collecting xlrd\n",
      "  Downloading xlrd-1.2.0-py2.py3-none-any.whl (103 kB)\n",
      "Installing collected packages: xlrd\n",
      "Successfully installed xlrd-1.2.0\n"
     ]
    }
   ],
   "source": [
    "!pip install xlrd"
   ]
  },
  {
   "cell_type": "markdown",
   "metadata": {},
   "source": [
    "## Scrapping Stock trading  \n",
    "How to scrape Yahoo Finance and extract fundamental stock market data using Python, URLLIB, and Pandas"
   ]
  },
  {
   "cell_type": "markdown",
   "metadata": {},
   "source": [
    "We started looking for the values that she saw on the original page in the source code, with the intention of understanding how Yahoo's HTML was built, it did not take long to identify that she simply had to look for the concept she wants with a \">\" at the beginning and then the tags </ td> </ tr> at the end. For example: \"> Market Cap\" and \"</ td> </ tr>\". For example, we review a specific case such as Google (GOOG) (https://finance.yahoo.com/quote/GOOG/key-statistics?p=GOOG) or any other company by changing the acronym."
   ]
  },
  {
   "cell_type": "markdown",
   "metadata": {},
   "source": [
    "![Yahoo Finanzas web](images/List_scraping_fields_2.jpg)"
   ]
  },
  {
   "cell_type": "markdown",
   "metadata": {},
   "source": [
    "The easiest thing would be to work with a Python libraries called [Scrapy][2] or [Beautifulsoup][1]. However, this time we preferred to write the code that would \"peel the onion\" of the Yahoo Finance Key Statistics HTML from scratch, because Yahoo's HTML had small variations in the tags that could make our life a hell if she used Scrapy.\n",
    "\n",
    "We can build the Python code to scrap Yahoo Finance Key Statistics data.\n",
    "\n",
    "[1]: https://pypi.org/project/beautifulsoup4/\n",
    "[2]: https://scrapy.org/"
   ]
  },
  {
   "cell_type": "markdown",
   "metadata": {},
   "source": [
    "For testing, we took advantage of an online [collection of acronyms][1] and filtered the major U.S. companies whose data appears on yahoo finances.  \n",
    "\n",
    "[1]: http://investexcel.net/all-yahoo-finance-stock-tickers/"
   ]
  },
  {
   "cell_type": "code",
   "execution_count": 4,
   "metadata": {},
   "outputs": [
    {
     "data": {
      "text/html": [
       "<div>\n",
       "<style scoped>\n",
       "    .dataframe tbody tr th:only-of-type {\n",
       "        vertical-align: middle;\n",
       "    }\n",
       "\n",
       "    .dataframe tbody tr th {\n",
       "        vertical-align: top;\n",
       "    }\n",
       "\n",
       "    .dataframe thead th {\n",
       "        text-align: right;\n",
       "    }\n",
       "</style>\n",
       "<table border=\"1\" class=\"dataframe\">\n",
       "  <thead>\n",
       "    <tr style=\"text-align: right;\">\n",
       "      <th></th>\n",
       "      <th>ticker</th>\n",
       "      <th>country</th>\n",
       "      <th>sector</th>\n",
       "      <th>RefIndex</th>\n",
       "    </tr>\n",
       "  </thead>\n",
       "  <tbody>\n",
       "    <tr>\n",
       "      <th>0</th>\n",
       "      <td>GOOG</td>\n",
       "      <td>USA</td>\n",
       "      <td>Technology</td>\n",
       "      <td>SPY</td>\n",
       "    </tr>\n",
       "    <tr>\n",
       "      <th>1</th>\n",
       "      <td>MSFT</td>\n",
       "      <td>USA</td>\n",
       "      <td>Technology</td>\n",
       "      <td>SPY</td>\n",
       "    </tr>\n",
       "    <tr>\n",
       "      <th>2</th>\n",
       "      <td>FB</td>\n",
       "      <td>USA</td>\n",
       "      <td>Technology</td>\n",
       "      <td>SPY</td>\n",
       "    </tr>\n",
       "    <tr>\n",
       "      <th>3</th>\n",
       "      <td>T</td>\n",
       "      <td>USA</td>\n",
       "      <td>Technology</td>\n",
       "      <td>SPY</td>\n",
       "    </tr>\n",
       "    <tr>\n",
       "      <th>4</th>\n",
       "      <td>ORCL</td>\n",
       "      <td>USA</td>\n",
       "      <td>Technology</td>\n",
       "      <td>SPY</td>\n",
       "    </tr>\n",
       "  </tbody>\n",
       "</table>\n",
       "</div>"
      ],
      "text/plain": [
       "  ticker country      sector RefIndex\n",
       "0   GOOG     USA  Technology      SPY\n",
       "1   MSFT     USA  Technology      SPY\n",
       "2     FB     USA  Technology      SPY\n",
       "3      T     USA  Technology      SPY\n",
       "4   ORCL     USA  Technology      SPY"
      ]
     },
     "execution_count": 4,
     "metadata": {},
     "output_type": "execute_result"
    }
   ],
   "source": [
    "df = pd.read_excel(\"yahoo_ticker_sample.xlsx\")\n",
    "df.head()"
   ]
  },
  {
   "cell_type": "code",
   "execution_count": 177,
   "metadata": {},
   "outputs": [
    {
     "data": {
      "text/plain": [
       "array(['Technology', 'Consumer', 'Services', 'Financial', 'Healthcare'],\n",
       "      dtype=object)"
      ]
     },
     "execution_count": 177,
     "metadata": {},
     "output_type": "execute_result"
    }
   ],
   "source": [
    "df['sector'].unique()"
   ]
  },
  {
   "cell_type": "code",
   "execution_count": null,
   "metadata": {},
   "outputs": [],
   "source": [
    "#Se podría ver los tickers del Ibex35 desde https://es.finance.yahoo.com/quote/%5EIBEX/components?p=%5EIBEX\n",
    "#Se podría obtener los tickers de la Bolsa de Madrid en https://es.finance.yahoo.com/quote/IGBM.MA/components?p=IGBM.MA"
   ]
  },
  {
   "cell_type": "code",
   "execution_count": 3,
   "metadata": {},
   "outputs": [
    {
     "data": {
      "text/plain": [
       "'GOOG'"
      ]
     },
     "execution_count": 3,
     "metadata": {},
     "output_type": "execute_result"
    }
   ],
   "source": [
    "df['ticker'][0]"
   ]
  },
  {
   "cell_type": "code",
   "execution_count": 178,
   "metadata": {},
   "outputs": [],
   "source": [
    "#We extract the HTML tags from the profile of the first of our tickers\n",
    "stock = df['ticker'][0] #GOOG\n",
    "sourceCode_profile = str(urlopen('https://finance.yahoo.com/quote/'+stock+'/profile?p='+stock).read())"
   ]
  },
  {
   "cell_type": "code",
   "execution_count": 1,
   "metadata": {},
   "outputs": [],
   "source": [
    "#sourceCode_profile"
   ]
  },
  {
   "cell_type": "code",
   "execution_count": 183,
   "metadata": {},
   "outputs": [
    {
     "name": "stdout",
     "output_type": "stream",
     "text": [
      "Communication Services\n"
     ]
    }
   ],
   "source": [
    "# We detect the HTML tags that determine the sector of the company's profile\n",
    "ScrapedAux = sourceCode_profile.split('class=\"Fw(600)\" data-reactid=\"21\">')[1].split('</span>')[0].split('>')\n",
    "ScrapedAux = ScrapedAux[0]\n",
    "print(ScrapedAux)"
   ]
  },
  {
   "cell_type": "markdown",
   "metadata": {},
   "source": [
    "![Yahoo Finanzas web](images/List_scraping_fields_3.jpg)"
   ]
  },
  {
   "cell_type": "code",
   "execution_count": 20,
   "metadata": {},
   "outputs": [
    {
     "name": "stdout",
     "output_type": "stream",
     "text": [
      "Internet Content & Information\n"
     ]
    }
   ],
   "source": [
    "#In the case of Industry there are cases that we need to clean up\n",
    "ScrapedAux_Indus = sourceCode.split('class=\"Fw(600)\" data-reactid=\"25\">')[1].split('</span>')[0].split('>')\n",
    "ScrapedAux_Indus = ScrapedAux_Indus[0]\n",
    "ScrapedAux_Indus = re.sub('&lt;/?[a-z]+&gt;', '', ScrapedAux_Indus)\n",
    "ScrapedAux_Indus = ScrapedAux_Indus.replace('&amp;', '&')\n",
    "print(ScrapedAux_Indus)"
   ]
  },
  {
   "cell_type": "code",
   "execution_count": 21,
   "metadata": {},
   "outputs": [],
   "source": [
    "#This Scraping format doesn´t work on Yahoo finance\n",
    "#Este formato de Scraping ya no funciona en Yahoo finance\n",
    "#ScrapedAux = sourceCode.split('>Sector')[1].split('</strong>')[0].split('>')\n",
    "#print(ScrapedAux)"
   ]
  },
  {
   "cell_type": "markdown",
   "metadata": {},
   "source": [
    "## Extracting statistical data  \n",
    "For each of the companies from which the acronym (tickers) has been extracted we will extract the statistical data available in their profile in one record per company."
   ]
  },
  {
   "cell_type": "code",
   "execution_count": 5,
   "metadata": {},
   "outputs": [],
   "source": [
    "#We extract the statistical data\n",
    "#We do another test before the full function\n",
    "#Hacemos otra prueba antes de la función completa\n",
    "stock = df['ticker'][0] #GOOG\n",
    "sourceCode = str(urlopen('https://finance.yahoo.com/quote/'+stock+'/key-statistics?p='+stock).read())\n",
    "#print(sourceCode)"
   ]
  },
  {
   "cell_type": "code",
   "execution_count": 185,
   "metadata": {},
   "outputs": [
    {
     "name": "stdout",
     "output_type": "stream",
     "text": [
      " Alphabet Inc. (GOOG)\n"
     ]
    }
   ],
   "source": [
    "#We extract the name of the company\n",
    "compname= sourceCode.split('Find out all the key statistics for')[1].split(', including')[0]\n",
    "print(compname)"
   ]
  },
  {
   "cell_type": "markdown",
   "metadata": {},
   "source": [
    "We list the name of the fields to get the data of each of the companies."
   ]
  },
  {
   "cell_type": "code",
   "execution_count": 6,
   "metadata": {},
   "outputs": [
    {
     "name": "stdout",
     "output_type": "stream",
     "text": [
      "list_of_fields= ['Market Cap', 'Enterprise Value', 'Trailing P/E', 'Forward P/E', 'PEG Ratio', 'Price/Sales', 'Price/Book', 'Enterprise Value/Revenue', 'Enterprise Value/EBITDA', 'Fiscal Year Ends', 'Most Recent Quarter', 'Profit Margin', 'Operating Margin', 'Return on Assets', 'Return on Equity', 'Revenue', 'Revenue Per Share', 'Quarterly Revenue Growth', 'Gross Profit', 'EBITDA', 'Net Income Avi to Common', 'Diluted EPS', 'Quarterly Earnings Growth', 'Total Cash', 'Total Cash Per Share', 'Total Debt', 'Total Debt/Equity', 'Current Ratio', 'Book Value Per Share', 'Operating Cash Flow', 'Levered Free Cash Flow', 'Beta', '52-Week Change', 'S&amp;P500 52-Week Change', '52 Week High', '52 Week Low', '50-Day Moving Average', '200-Day Moving Average', 'Avg Vol (3 month)', 'Avg Vol (10 day)', 'Shares Outstanding', 'Float', '% Held by Insiders', '% Held by Institutions', 'Shares Short', 'Short Ratio', 'Short % of Float', 'Shares Short (prior month)', 'Forward Annual Dividend Rate', 'Forward Annual Dividend Yield', 'Trailing Annual Dividend Rate', 'Trailing Annual Dividend Yield', '5 Year Average Dividend Yield', 'Payout Ratio', 'Dividend Date', 'Ex-Dividend Date', 'Last Split Factor', 'Last Split Date']\n",
      "list_of_dates= ['Fiscal Year Ends', 'Most Recent Quarter', 'Dividend Date', 'Ex-Dividend Date', 'Last Split Date']\n"
     ]
    }
   ],
   "source": [
    "# LIST OF FIELDS WE WILL SCRAPE\n",
    "list_of_fields = ['Market Cap', 'Enterprise Value', 'Trailing P/E', 'Forward P/E', 'PEG Ratio', 'Price/Sales', 'Price/Book', 'Enterprise Value/Revenue', 'Enterprise Value/EBITDA', 'Fiscal Year Ends', 'Most Recent Quarter', 'Profit Margin', 'Operating Margin', 'Return on Assets', 'Return on Equity', 'Revenue', 'Revenue Per Share', 'Quarterly Revenue Growth', 'Gross Profit', 'EBITDA', 'Net Income Avi to Common', 'Diluted EPS', 'Quarterly Earnings Growth', 'Total Cash', 'Total Cash Per Share', 'Total Debt', 'Total Debt/Equity', 'Current Ratio', 'Book Value Per Share', 'Operating Cash Flow', 'Levered Free Cash Flow', 'Beta', '52-Week Change', 'S&amp;P500 52-Week Change', '52 Week High', '52 Week Low', '50-Day Moving Average', '200-Day Moving Average', 'Avg Vol (3 month)', 'Avg Vol (10 day)', 'Shares Outstanding', 'Float', '% Held by Insiders', '% Held by Institutions', 'Shares Short', 'Short Ratio', 'Short % of Float', 'Shares Short (prior month)', 'Forward Annual Dividend Rate', 'Forward Annual Dividend Yield', 'Trailing Annual Dividend Rate', 'Trailing Annual Dividend Yield', '5 Year Average Dividend Yield', 'Payout Ratio', 'Dividend Date', 'Ex-Dividend Date', 'Last Split Factor', 'Last Split Date']\n",
    "list_of_dates = ['Fiscal Year Ends', 'Most Recent Quarter', 'Dividend Date', 'Ex-Dividend Date', 'Last Split Date']\n",
    "print(\"list_of_fields=\",list_of_fields)\n",
    "print(\"list_of_dates=\",list_of_dates)"
   ]
  },
  {
   "cell_type": "markdown",
   "metadata": {},
   "source": [
    "![Yahoo Finanzas web](images/List_scraping_fields.jpg)"
   ]
  },
  {
   "cell_type": "code",
   "execution_count": 26,
   "metadata": {},
   "outputs": [],
   "source": [
    "# Creating empty field in the data frame for recording the scraped data.\n",
    "for i in range(len(list_of_fields)):\n",
    "    df[list_of_fields[i]] = ''\n",
    "#We added two more fields to identify each company\n",
    "df['ScrapedName'] = ''\n",
    "df['Sector'] = ''"
   ]
  },
  {
   "cell_type": "code",
   "execution_count": 27,
   "metadata": {},
   "outputs": [
    {
     "data": {
      "text/html": [
       "<div>\n",
       "<style scoped>\n",
       "    .dataframe tbody tr th:only-of-type {\n",
       "        vertical-align: middle;\n",
       "    }\n",
       "\n",
       "    .dataframe tbody tr th {\n",
       "        vertical-align: top;\n",
       "    }\n",
       "\n",
       "    .dataframe thead th {\n",
       "        text-align: right;\n",
       "    }\n",
       "</style>\n",
       "<table border=\"1\" class=\"dataframe\">\n",
       "  <thead>\n",
       "    <tr style=\"text-align: right;\">\n",
       "      <th></th>\n",
       "      <th>ticker</th>\n",
       "      <th>country</th>\n",
       "      <th>sector</th>\n",
       "      <th>RefIndex</th>\n",
       "      <th>Market Cap</th>\n",
       "      <th>Enterprise Value</th>\n",
       "      <th>Trailing P/E</th>\n",
       "      <th>Forward P/E</th>\n",
       "      <th>PEG Ratio</th>\n",
       "      <th>Price/Sales</th>\n",
       "      <th>...</th>\n",
       "      <th>Trailing Annual Dividend Rate</th>\n",
       "      <th>Trailing Annual Dividend Yield</th>\n",
       "      <th>5 Year Average Dividend Yield</th>\n",
       "      <th>Payout Ratio</th>\n",
       "      <th>Dividend Date</th>\n",
       "      <th>Ex-Dividend Date</th>\n",
       "      <th>Last Split Factor</th>\n",
       "      <th>Last Split Date</th>\n",
       "      <th>ScrapedName</th>\n",
       "      <th>Sector</th>\n",
       "    </tr>\n",
       "  </thead>\n",
       "  <tbody>\n",
       "    <tr>\n",
       "      <th>0</th>\n",
       "      <td>GOOG</td>\n",
       "      <td>USA</td>\n",
       "      <td>Technology</td>\n",
       "      <td>SPY</td>\n",
       "      <td></td>\n",
       "      <td></td>\n",
       "      <td></td>\n",
       "      <td></td>\n",
       "      <td></td>\n",
       "      <td></td>\n",
       "      <td>...</td>\n",
       "      <td></td>\n",
       "      <td></td>\n",
       "      <td></td>\n",
       "      <td></td>\n",
       "      <td></td>\n",
       "      <td></td>\n",
       "      <td></td>\n",
       "      <td></td>\n",
       "      <td></td>\n",
       "      <td></td>\n",
       "    </tr>\n",
       "  </tbody>\n",
       "</table>\n",
       "<p>1 rows × 64 columns</p>\n",
       "</div>"
      ],
      "text/plain": [
       "  ticker country      sector RefIndex Market Cap Enterprise Value  \\\n",
       "0   GOOG     USA  Technology      SPY                               \n",
       "\n",
       "  Trailing P/E Forward P/E PEG Ratio Price/Sales  ...  \\\n",
       "0                                                 ...   \n",
       "\n",
       "  Trailing Annual Dividend Rate Trailing Annual Dividend Yield  \\\n",
       "0                                                                \n",
       "\n",
       "  5 Year Average Dividend Yield Payout Ratio Dividend Date Ex-Dividend Date  \\\n",
       "0                                                                             \n",
       "\n",
       "  Last Split Factor Last Split Date ScrapedName Sector  \n",
       "0                                                       \n",
       "\n",
       "[1 rows x 64 columns]"
      ]
     },
     "execution_count": 27,
     "metadata": {},
     "output_type": "execute_result"
    }
   ],
   "source": [
    "df[:1]"
   ]
  },
  {
   "cell_type": "code",
   "execution_count": 25,
   "metadata": {},
   "outputs": [
    {
     "name": "stdout",
     "output_type": "stream",
     "text": [
      "1.04T\n"
     ]
    }
   ],
   "source": [
    "#We test how to extract one of the fields defined in list_of_fields\n",
    "field = list_of_fields[0]\n",
    "ScrapedValue = sourceCode.split('>' + field)[1].split('</td></tr>')[0].split('>')[-1]\n",
    "print(ScrapedValue)"
   ]
  },
  {
   "cell_type": "markdown",
   "metadata": {},
   "source": [
    "![Yahoo Finanzas web](images/List_scraping_fields_marketcap.jpg)"
   ]
  },
  {
   "cell_type": "code",
   "execution_count": 26,
   "metadata": {},
   "outputs": [
    {
     "name": "stdout",
     "output_type": "stream",
     "text": [
      "6.45\n"
     ]
    }
   ],
   "source": [
    "#We tried with other fields\n",
    "field = list_of_fields[5]\n",
    "ScrapedValue = sourceCode.split('>' + field)[1].split('</td></tr>')[0].split('>')[-1]\n",
    "print(ScrapedValue)"
   ]
  },
  {
   "cell_type": "code",
   "execution_count": 12,
   "metadata": {},
   "outputs": [
    {
     "name": "stdout",
     "output_type": "stream",
     "text": [
      "5.22\n"
     ]
    }
   ],
   "source": [
    "field = list_of_fields[6]\n",
    "ScrapedValue = sourceCode.split('>' + field)[1].split('</td></tr>')[0].split('>')[-1]\n",
    "print(ScrapedValue)"
   ]
  },
  {
   "cell_type": "code",
   "execution_count": 7,
   "metadata": {},
   "outputs": [
    {
     "data": {
      "text/plain": [
       "'Price/Book'"
      ]
     },
     "execution_count": 7,
     "metadata": {},
     "output_type": "execute_result"
    }
   ],
   "source": [
    "list_of_fields[6]"
   ]
  },
  {
   "cell_type": "code",
   "execution_count": 187,
   "metadata": {},
   "outputs": [
    {
     "name": "stdout",
     "output_type": "stream",
     "text": [
      "field= Market Cap  / scraped valued=  1.04T\n",
      "field= Enterprise Value  / scraped valued=  945.56B\n",
      "field= Trailing P/E  / scraped valued=  30.78\n",
      "field= Forward P/E  / scraped valued=  24.14\n",
      "field= PEG Ratio  / scraped valued=  1.78\n",
      "field= Price/Sales  / scraped valued=  6.42\n",
      "field= Price/Book  / scraped valued=  5.17\n",
      "field= Enterprise Value/Revenue  / scraped valued=  5.84\n",
      "field= Enterprise Value/EBITDA  / scraped valued=  19.65\n",
      "field= Fiscal Year Ends  / scraped valued=  Dec 30, 2019\n",
      "field= Most Recent Quarter  / scraped valued=  Dec 30, 2019\n",
      "field= Profit Margin  / scraped valued=  21.22%\n",
      "field= Operating Margin  / scraped valued=  22.54%\n",
      "field= Return on Assets  / scraped valued=  8.96%\n",
      "field= Return on Equity  / scraped valued=  18.12%\n",
      "field= Revenue  / scraped valued=  161.86B\n",
      "field= Revenue Per Share  / scraped valued=  233.70\n",
      "field= Quarterly Revenue Growth  / scraped valued=  17.30%\n",
      "field= Gross Profit  / scraped valued=  89.96B\n",
      "field= EBITDA  / scraped valued=  48.13B\n",
      "field= Net Income Avi to Common  / scraped valued=  34.34B\n",
      "field= Diluted EPS  / scraped valued=  49.16\n",
      "field= Quarterly Earnings Growth  / scraped valued=  19.30%\n",
      "field= Total Cash  / scraped valued=  119.68B\n",
      "field= Total Cash Per Share  / scraped valued=  174.13\n",
      "field= Total Debt  / scraped valued=  15.97B\n",
      "field= Total Debt/Equity  / scraped valued=  7.93\n",
      "field= Current Ratio  / scraped valued=  3.37\n",
      "field= Book Value Per Share  / scraped valued=  292.65\n",
      "field= Operating Cash Flow  / scraped valued=  54.52B\n",
      "field= Levered Free Cash Flow  / scraped valued=  25.58B\n",
      "field= Beta  / scraped valued=  1.04\n",
      "field= 52-Week Change  / scraped valued=  37.07%\n",
      "field= S&amp;P500 52-Week Change  / scraped valued=  21.60%\n",
      "field= 52 Week High  / scraped valued=  1,532.11\n",
      "field= 52 Week Low  / scraped valued=  1,025.00\n",
      "field= 50-Day Moving Average  / scraped valued=  1,458.30\n",
      "field= 200-Day Moving Average  / scraped valued=  1,304.45\n",
      "field= Avg Vol (3 month)  / scraped valued=  1.45M\n",
      "field= Avg Vol (10 day)  / scraped valued=  1.16M\n",
      "field= Shares Outstanding  / scraped valued=  342.07M\n",
      "field= Float  / scraped valued=  617.94M\n",
      "field= % Held by Insiders  / scraped valued=  5.66%\n",
      "field= % Held by Institutions  / scraped valued=  70.71%\n",
      "field= Shares Short  / scraped valued=  3.48M\n",
      "field= Short Ratio  / scraped valued=  2.24\n",
      "field= Short % of Float  / scraped valued=  \n"
     ]
    },
    {
     "ename": "IndexError",
     "evalue": "list index out of range",
     "output_type": "error",
     "traceback": [
      "\u001b[1;31m---------------------------------------------------------------------------\u001b[0m",
      "\u001b[1;31mIndexError\u001b[0m                                Traceback (most recent call last)",
      "\u001b[1;32m<ipython-input-187-52b20d775b2f>\u001b[0m in \u001b[0;36m<module>\u001b[1;34m\u001b[0m\n\u001b[0;32m      1\u001b[0m \u001b[1;31m#We tested how each of the statistical fields would be extracted for a company, in this case Google (GOOG)\u001b[0m\u001b[1;33m\u001b[0m\u001b[1;33m\u001b[0m\u001b[1;33m\u001b[0m\u001b[0m\n\u001b[0;32m      2\u001b[0m \u001b[1;32mfor\u001b[0m \u001b[0mfield\u001b[0m \u001b[1;32min\u001b[0m \u001b[0mlist_of_fields\u001b[0m\u001b[1;33m:\u001b[0m\u001b[1;33m\u001b[0m\u001b[1;33m\u001b[0m\u001b[0m\n\u001b[1;32m----> 3\u001b[1;33m     \u001b[0mScrapedValue\u001b[0m \u001b[1;33m=\u001b[0m \u001b[0msourceCode\u001b[0m\u001b[1;33m.\u001b[0m\u001b[0msplit\u001b[0m\u001b[1;33m(\u001b[0m\u001b[1;34m'>'\u001b[0m \u001b[1;33m+\u001b[0m \u001b[0mfield\u001b[0m\u001b[1;33m)\u001b[0m\u001b[1;33m[\u001b[0m\u001b[1;36m1\u001b[0m\u001b[1;33m]\u001b[0m\u001b[1;33m.\u001b[0m\u001b[0msplit\u001b[0m\u001b[1;33m(\u001b[0m\u001b[1;34m'</td></tr>'\u001b[0m\u001b[1;33m)\u001b[0m\u001b[1;33m[\u001b[0m\u001b[1;36m0\u001b[0m\u001b[1;33m]\u001b[0m\u001b[1;33m.\u001b[0m\u001b[0msplit\u001b[0m\u001b[1;33m(\u001b[0m\u001b[1;34m'>'\u001b[0m\u001b[1;33m)\u001b[0m\u001b[1;33m[\u001b[0m\u001b[1;33m-\u001b[0m\u001b[1;36m1\u001b[0m\u001b[1;33m]\u001b[0m\u001b[1;33m\u001b[0m\u001b[1;33m\u001b[0m\u001b[0m\n\u001b[0m\u001b[0;32m      4\u001b[0m     \u001b[0mprint\u001b[0m \u001b[1;33m(\u001b[0m\u001b[1;34m\"field=\"\u001b[0m\u001b[1;33m,\u001b[0m\u001b[0mfield\u001b[0m\u001b[1;33m,\u001b[0m \u001b[1;34m\" / scraped valued= \"\u001b[0m\u001b[1;33m,\u001b[0m \u001b[0mScrapedValue\u001b[0m\u001b[1;33m)\u001b[0m\u001b[1;33m\u001b[0m\u001b[1;33m\u001b[0m\u001b[0m\n",
      "\u001b[1;31mIndexError\u001b[0m: list index out of range"
     ]
    }
   ],
   "source": [
    "#We tested how each of the statistical fields would be extracted for a company, in this case Google (GOOG)\n",
    "for field in list_of_fields:\n",
    "    ScrapedValue = sourceCode.split('>' + field)[1].split('</td></tr>')[0].split('>')[-1]\n",
    "    print (\"field=\",field, \" / scraped valued= \", ScrapedValue)"
   ]
  },
  {
   "cell_type": "markdown",
   "metadata": {},
   "source": [
    "We notice that an error occurs when it does not find a data, which we will take into account when developing our scraping function"
   ]
  },
  {
   "cell_type": "code",
   "execution_count": 35,
   "metadata": {},
   "outputs": [
    {
     "name": "stdout",
     "output_type": "stream",
     "text": [
      "ticker = GOOG company name =  Alphabet Inc. (GOOG) sector= Communication Services 0  de  86\n",
      "ticker = MSFT company name =  Microsoft Corporation (MSFT) sector= Technology 1  de  86\n",
      "ticker = FB company name =  Facebook, Inc. (FB) sector= Communication Services 2  de  86\n",
      "ticker = T company name =  AT&amp;T Inc. (T) sector= Communication Services 3  de  86\n",
      "ticker = ORCL company name =  Oracle Corporation (ORCL) sector= Technology 4  de  86\n",
      "ticker = VZ company name =  Verizon Communications Inc. (VZ) sector= Communication Services 5  de  86\n",
      "ticker = TSM company name =  Taiwan Semiconductor Manufactur (TSM) sector=  6  de  86\n",
      "ticker = INTC company name =  Intel Corporation (INTC) sector= Technology 7  de  86\n",
      "ticker = CSCO company name =  Cisco Systems, Inc. (CSCO) sector= Technology 8  de  86\n",
      "ticker = IBM company name =  International Business Machines (IBM) sector= Technology 9  de  86\n",
      "ticker = NVDA company name =  NVIDIA Corporation (NVDA) sector= Technology 10  de  86\n",
      "ticker = ACN company name =  Accenture plc (ACN) sector=  11  de  86\n",
      "ticker = TXN company name =  Texas Instruments Incorporated (TXN) sector= Technology 12  de  86\n",
      "ticker = VOD company name =  Vodafone Group Plc (VOD) sector=  13  de  86\n",
      "ticker = QCOM company name =  QUALCOMM Incorporated (QCOM) sector= Technology 14  de  86\n",
      "ticker = ADBE company name =  Adobe Inc. (ADBE) sector= Technology 15  de  86\n",
      "ticker = BIDU company name =  Baidu, Inc. (BIDU) sector=  16  de  86\n",
      "ticker = AAPL company name =  Apple Inc. (AAPL) sector= Technology 17  de  86\n",
      "ticker = PG company name =  Procter &amp; Gamble Company (The) (PG) sector= Consumer Defensive 18  de  86\n",
      "ticker = BUD company name =  Anheuser-Busch Inbev SA Sponsor (BUD) sector= Consumer Defensive 19  de  86\n",
      "ticker = KO company name =  Coca-Cola Company (The) (KO) sector= Consumer Defensive 20  de  86\n",
      "ticker = PM company name =  Philip Morris International Inc (PM) sector= Consumer Defensive 21  de  86\n",
      "ticker = UL company name =  Unilever PLC (UL) sector=  22  de  86\n",
      "ticker = PEP company name =  Pepsico, Inc. (PEP) sector= Consumer Defensive 23  de  86\n",
      "ticker = BTI company name =  British American Tobacco  Indus (BTI) sector=  24  de  86\n",
      "ticker = TTM company name =  Tata Motors Ltd Tata Motors Lim (TTM) sector=  25  de  86\n",
      "ticker = MO company name =  Altria Group, Inc. (MO) sector= Consumer Defensive 26  de  86\n",
      "ticker = NKE company name =  Nike, Inc. (NKE) sector= Consumer Cyclical 27  de  86\n",
      "ticker = MDLZ company name =  Mondelez International, Inc. (MDLZ) sector=  28  de  86\n",
      "ticker = CL company name =  Colgate-Palmolive Company (CL) sector= Consumer Defensive 29  de  86\n",
      "ticker = TSLA company name =  Tesla, Inc. (TSLA) sector= Consumer Cyclical 30  de  86\n",
      "ticker = GM company name =  General Motors Company (GM) sector= Consumer Cyclical 31  de  86\n",
      "ticker = KMB company name =  Kimberly-Clark Corporation (KMB) sector= Consumer Defensive 32  de  86\n",
      "ticker = AMZN company name =  Amazon.com, Inc. (AMZN) sector= Consumer Cyclical 33  de  86\n",
      "ticker = WMT company name =  Walmart Inc. (WMT) sector= Consumer Defensive 34  de  86\n",
      "ticker = CMCSA company name =  Comcast Corporation (CMCSA) sector=  35  de  86\n",
      "ticker = HD company name =  Home Depot, Inc. (The) (HD) sector= Consumer Cyclical 36  de  86\n",
      "ticker = DIS company name =  Walt Disney Company (The) (DIS) sector= Communication Services 37  de  86\n",
      "ticker = MCD company name =  McDonald&#x27;s Corporation (MCD) sector= Consumer Cyclical 38  de  86\n",
      "ticker = UPS company name =  United Parcel Service, Inc. (UPS) sector= Industrials 39  de  86\n",
      "ticker = SBUX company name =  Starbucks Corporation (SBUX) sector= Consumer Cyclical 40  de  86\n",
      "ticker = UNP company name =  Union Pacific Corporation (UNP) sector= Industrials 41  de  86\n",
      "ticker = NFLX company name =  Netflix, Inc. (NFLX) sector= Communication Services 43  de  86\n",
      "ticker = COST company name =  Costco Wholesale Corporation (COST) sector= Consumer Defensive 44  de  86\n",
      "ticker = LOW company name =  Lowe&#x27;s Companies, Inc. (LOW) sector= Consumer Cyclical 45  de  86\n",
      "ticker = CNI company name =  Canadian National Railway Compa (CNI) sector= Industrials 46  de  86\n",
      "ticker = FDX company name =  FedEx Corporation (FDX) sector= Industrials 47  de  86\n",
      "ticker = FOXA company name =  Fox Corporation (FOXA) sector= Communication Services 48  de  86\n",
      "ticker = LVS company name =  Las Vegas Sands Corp. (LVS) sector= Consumer Cyclical 49  de  86\n",
      "ticker = BRK-B company name =  Berkshire Hathaway Inc. New (BRK-B) sector= Financial Services 50  de  86\n",
      "ticker = JPM company name =  JP Morgan Chase &amp; Co. (JPM) sector= Financial Services 51  de  86\n",
      "ticker = WFC company name =  Wells Fargo &amp; Company (WFC) sector= Financial Services 52  de  86\n",
      "ticker = BAC company name =  Bank of America Corporation (BAC) sector=  53  de  86\n",
      "ticker = V company name =  Visa Inc. (V) sector= Financial Services 54  de  86\n",
      "ticker = HSBC company name =  HSBC Holdings, plc. (HSBC) sector=  55  de  86\n",
      "ticker = C company name =  Citigroup, Inc. (C) sector= Financial Services 56  de  86\n",
      "ticker = MA company name =  Mastercard Incorporated (MA) sector= Financial Services 57  de  86\n",
      "ticker = RY company name =  Royal Bank Of Canada (RY) sector=  58  de  86\n",
      "ticker = TD company name =  Toronto Dominion Bank (The) (TD) sector= Financial Services 59  de  86\n",
      "ticker = USB company name =  U.S. Bancorp (USB) sector= Financial Services 60  de  86\n",
      "ticker = MS company name =  Morgan Stanley (MS) sector= Financial Services 61  de  86\n",
      "ticker = GS company name =  Goldman Sachs Group, Inc. (The) (GS) sector= Financial Services 62  de  86\n",
      "ticker = CS company name =  Credit Suisse Group (CS) sector= Financial Services 63  de  86\n",
      "ticker = ITUB company name =  Itau Unibanco Banco Holding SA (ITUB) sector=  64  de  86\n",
      "ticker = DB company name =  Deutsche Bank AG (DB) sector= Financial Services 65  de  86\n",
      "ticker = AXP company name =  American Express Company (AXP) sector=  66  de  86\n",
      "ticker = ING company name =  ING Group, N.V. (ING) sector=  67  de  86\n",
      "ticker = JNJ company name =  Johnson &amp; Johnson (JNJ) sector= Healthcare 68  de  86\n",
      "ticker = NVS company name =  Novartis AG (NVS) sector= Healthcare 69  de  86\n",
      "ticker = PFE company name =  Pfizer, Inc. (PFE) sector= Healthcare 70  de  86\n",
      "ticker = UNH company name =  UnitedHealth Group Incorporated (UNH) sector=  71  de  86\n",
      "ticker = MRK company name =  Merck &amp; Company, Inc. (MRK) sector= Healthcare 72  de  86\n",
      "ticker = AMGN company name =  Amgen Inc. (AMGN) sector= Healthcare 73  de  86\n",
      "ticker = SNY company name =  Sanofi (SNY) sector= Healthcare 74  de  86\n",
      "ticker = ABBV company name =  AbbVie Inc. (ABBV) sector= Healthcare 75  de  86\n",
      "ticker = CELG company name =  Celgene Corporation (CELG) sector=  76  de  86\n",
      "ticker = GSK company name =  GlaxoSmithKline PLC (GSK) sector= Healthcare 77  de  86\n",
      "ticker = GILD company name =  Gilead Sciences, Inc. (GILD) sector= Healthcare 78  de  86\n",
      "ticker = BMY company name =  Bristol-Myers Squibb Company (BMY) sector=  79  de  86\n",
      "ticker = LLY company name =  Eli Lilly and Company (LLY) sector= Healthcare 80  de  86\n",
      "ticker = ABT company name =  Abbott Laboratories (ABT) sector= Healthcare 81  de  86\n",
      "ticker = NVO company name =  Novo Nordisk A/S (NVO) sector= Healthcare 82  de  86\n",
      "ticker = CVS company name =  CVS Health Corporation (CVS) sector= Healthcare 83  de  86\n",
      "ticker = AZN company name =  Astrazeneca PLC (AZN) sector=  84  de  86\n",
      "ticker = TMO company name =  Thermo Fisher Scientific Inc (TMO) sector= Healthcare 85  de  86\n"
     ]
    }
   ],
   "source": [
    "# MAIN LOOK - SCRAPPING DATA - FOR EACH TICKER IN THE df\n",
    "error = 0\n",
    "for j in range(len(df)):\n",
    "#   print (\"ticker =\", df['ticker'][j],j, \" de \", len(df))    \n",
    "   \n",
    "    stock = df['ticker'][j]\n",
    "\n",
    "    # REQUESTING INFORMATION FROM YAHOO AND INSISTING IF DOES NOT RESPOND - STOPPING THE PROGRAM IF YAHOO DOES NOT REPLY FOR TWO tickers IN SEQUENCE!\n",
    "    try:\n",
    "        sourceCode = str(urlopen('https://finance.yahoo.com/quote/'+stock+'/key-statistics?p='+stock).read())\n",
    "        error = 0\n",
    "    except:\n",
    "        time.sleep(randint(1,12))\n",
    "        try:\n",
    "            sourceCode = str(urlopen('https://finance.yahoo.com/quote/'+stock+'/key-statistics?p='+stock).read())\n",
    "            error = 0\n",
    "        except:\n",
    "            if error == 0:\n",
    "                time.sleep(randint(10,100))\n",
    "                error = 1\n",
    "                continue\n",
    "            else:\n",
    "                break\n",
    "\n",
    "    # FINDING COMPANY NAME IN YAHOO PAGE TO MAKE SURE WE GETTING THE CORRECT COMPANY - COMPANY NAME IS EASY TO FIND.\n",
    "    compname= sourceCode.split('Find out all the key statistics for')[1].split(', including')[0]\n",
    "    if compname.find('{shortName} ({symbol})') >= 0:\n",
    "        continue   \n",
    "    df['ScrapedName'].iloc[j] = compname           \n",
    "\n",
    "    # YAHOO FINANCE HAS 2 WAYS OF OPENING AND CLOSING TAGS </td></tr> OR </span></td></tr>, SO WE REMOVE THE </span> TO MAKE THEM ALL THE SAME:\n",
    "    sourceCode = sourceCode.replace('</span>','')\n",
    "    \n",
    "    for field in list_of_fields:\n",
    "        try:\n",
    "            ScrapedValue = sourceCode.split('>' + field)[1].split('</td></tr>')[0].split('>')[-1]\n",
    "#           print (\"field=\",field, \" / scraped valued= \", ScrapedValue)\n",
    "            df[field].iloc[j] = ScrapedValue\n",
    "        except:\n",
    "            df[field].iloc[j] = np.nan\n",
    "            continue\n",
    "\n",
    "    # ALSO GRABBING COMPANY SECTOR FROM YAHOO PAGE.\n",
    "    try:\n",
    "        ScrapedSector = ''\n",
    "        #sourceCode = str(urlopen('https://finance.yahoo.com/quote/'+stock+'/profile?p='+stock).read())\n",
    "        sourceCode_profile = str(urlopen('https://finance.yahoo.com/quote/'+stock+'/profile?p='+stock).read())\n",
    "        #ScrapedAux = sourceCode.split('>Sector')[1].split('</strong>')[0].split('>')\n",
    "        ScrapedAux = sourceCode_profile.split('class=\"Fw(600)\" data-reactid=\"21\">')[1].split('</span>')[0].split('>')\n",
    "        ScrapedSector = ScrapedAux[len(ScrapedAux)-1]\n",
    "        df['Sector'].iloc[j] = ScrapedSector\n",
    "    except:\n",
    "        True\n",
    "    print (\"ticker =\", df['ticker'][j], \"company name =\", compname,\"sector=\",ScrapedSector,j, \" de \", len(df))"
   ]
  },
  {
   "cell_type": "code",
   "execution_count": 44,
   "metadata": {},
   "outputs": [
    {
     "data": {
      "text/plain": [
       "85"
      ]
     },
     "execution_count": 44,
     "metadata": {},
     "output_type": "execute_result"
    }
   ],
   "source": [
    "#Nº de valores nulos en el df\n",
    "df.isnull().sum().sum()"
   ]
  },
  {
   "cell_type": "code",
   "execution_count": 49,
   "metadata": {},
   "outputs": [
    {
     "name": "stdout",
     "output_type": "stream",
     "text": [
      "<class 'pandas.core.frame.DataFrame'>\n",
      "RangeIndex: 86 entries, 0 to 85\n",
      "Data columns (total 64 columns):\n",
      " #   Column                          Non-Null Count  Dtype \n",
      "---  ------                          --------------  ----- \n",
      " 0   ticker                          86 non-null     object\n",
      " 1   country                         86 non-null     object\n",
      " 2   sector                          86 non-null     object\n",
      " 3   RefIndex                        86 non-null     object\n",
      " 4   Market Cap                      86 non-null     object\n",
      " 5   Enterprise Value                86 non-null     object\n",
      " 6   Trailing P/E                    86 non-null     object\n",
      " 7   Forward P/E                     86 non-null     object\n",
      " 8   PEG Ratio                       86 non-null     object\n",
      " 9   Price/Sales                     86 non-null     object\n",
      " 10  Price/Book                      86 non-null     object\n",
      " 11  Enterprise Value/Revenue        86 non-null     object\n",
      " 12  Enterprise Value/EBITDA         86 non-null     object\n",
      " 13  Fiscal Year Ends                86 non-null     object\n",
      " 14  Most Recent Quarter             86 non-null     object\n",
      " 15  Profit Margin                   86 non-null     object\n",
      " 16  Operating Margin                86 non-null     object\n",
      " 17  Return on Assets                86 non-null     object\n",
      " 18  Return on Equity                86 non-null     object\n",
      " 19  Revenue                         86 non-null     object\n",
      " 20  Revenue Per Share               86 non-null     object\n",
      " 21  Quarterly Revenue Growth        86 non-null     object\n",
      " 22  Gross Profit                    86 non-null     object\n",
      " 23  EBITDA                          86 non-null     object\n",
      " 24  Net Income Avi to Common        86 non-null     object\n",
      " 25  Diluted EPS                     86 non-null     object\n",
      " 26  Quarterly Earnings Growth       86 non-null     object\n",
      " 27  Total Cash                      86 non-null     object\n",
      " 28  Total Cash Per Share            86 non-null     object\n",
      " 29  Total Debt                      86 non-null     object\n",
      " 30  Total Debt/Equity               86 non-null     object\n",
      " 31  Current Ratio                   86 non-null     object\n",
      " 32  Book Value Per Share            86 non-null     object\n",
      " 33  Operating Cash Flow             86 non-null     object\n",
      " 34  Levered Free Cash Flow          86 non-null     object\n",
      " 35  Beta                            86 non-null     object\n",
      " 36  52-Week Change                  86 non-null     object\n",
      " 37  S&amp;P500 52-Week Change       86 non-null     object\n",
      " 38  52 Week High                    86 non-null     object\n",
      " 39  52 Week Low                     86 non-null     object\n",
      " 40  50-Day Moving Average           86 non-null     object\n",
      " 41  200-Day Moving Average          86 non-null     object\n",
      " 42  Avg Vol (3 month)               86 non-null     object\n",
      " 43  Avg Vol (10 day)                86 non-null     object\n",
      " 44  Shares Outstanding              86 non-null     object\n",
      " 45  Float                           86 non-null     object\n",
      " 46  % Held by Insiders              86 non-null     object\n",
      " 47  % Held by Institutions          86 non-null     object\n",
      " 48  Shares Short                    86 non-null     object\n",
      " 49  Short Ratio                     86 non-null     object\n",
      " 50  Short % of Float                86 non-null     object\n",
      " 51  Shares Short (prior month)      1 non-null      object\n",
      " 52  Forward Annual Dividend Rate    86 non-null     object\n",
      " 53  Forward Annual Dividend Yield   86 non-null     object\n",
      " 54  Trailing Annual Dividend Rate   86 non-null     object\n",
      " 55  Trailing Annual Dividend Yield  86 non-null     object\n",
      " 56  5 Year Average Dividend Yield   86 non-null     object\n",
      " 57  Payout Ratio                    86 non-null     object\n",
      " 58  Dividend Date                   86 non-null     object\n",
      " 59  Ex-Dividend Date                86 non-null     object\n",
      " 60  Last Split Factor               86 non-null     object\n",
      " 61  Last Split Date                 86 non-null     object\n",
      " 62  ScrapedName                     86 non-null     object\n",
      " 63  Sector                          86 non-null     object\n",
      "dtypes: object(64)\n",
      "memory usage: 43.1+ KB\n"
     ]
    }
   ],
   "source": [
    "#Especifíca las columnas con algún Nan\n",
    "df.info(null_counts=True)"
   ]
  },
  {
   "cell_type": "markdown",
   "metadata": {},
   "source": [
    "## Bolsa de Madrid  \n",
    "### Scraping data stocks"
   ]
  },
  {
   "cell_type": "markdown",
   "metadata": {},
   "source": [
    "To extract the tickers from the Madrid Stock Exchange, let's go to the corresponding section in [yahoo finance](https://es.finance.yahoo.com/quote/IGBM.MA/components?p=IGBM.MA) and scrape the acronyms of companies."
   ]
  },
  {
   "cell_type": "code",
   "execution_count": 6,
   "metadata": {},
   "outputs": [],
   "source": [
    "sourceCode_tickers = str(urlopen('https://es.finance.yahoo.com/quote/IGBM.MA/components?p=IGBM.MA').read())\n",
    "#print(sourceCode_tickers)"
   ]
  },
  {
   "cell_type": "code",
   "execution_count": 189,
   "metadata": {},
   "outputs": [
    {
     "data": {
      "text/plain": [
       "['[\"ADV.MC\"',\n",
       " '\"BBG000DW1V13\"',\n",
       " '\"GAS.MC\"',\n",
       " '\"DIN.MA\"',\n",
       " '\"ELE.MC\"',\n",
       " '\"EKT.MC\"',\n",
       " '\"APPS.MC\"',\n",
       " '\"CLNX.MC\"',\n",
       " '\"MDF.MC\"',\n",
       " '\"NTH.MC\"']"
      ]
     },
     "execution_count": 189,
     "metadata": {},
     "output_type": "execute_result"
    }
   ],
   "source": [
    "#We extract a list of existing acronyms in the section of the Madrid Stock Exchange within yahoo finances in the Spanish version\n",
    "ScrapedAux = sourceCode_tickers.split('components\":{\"components\":')[1].split('],')[0].split(',')[0:-1]\n",
    "#tickers = ScrapedAux[len(ScrapedAux)-1]\n",
    "#print(tickers)\n",
    "#print(ScrapedAux)\n",
    "ScrapedAux[:10]"
   ]
  },
  {
   "cell_type": "code",
   "execution_count": 96,
   "metadata": {},
   "outputs": [
    {
     "data": {
      "text/plain": [
       "'ADV.MC'"
      ]
     },
     "execution_count": 96,
     "metadata": {},
     "output_type": "execute_result"
    }
   ],
   "source": [
    "#We cleaned the list to get the tickers out\n",
    "ScrapedAux[0].replace('\"','').replace('[','')"
   ]
  },
  {
   "cell_type": "code",
   "execution_count": 190,
   "metadata": {},
   "outputs": [
    {
     "data": {
      "text/plain": [
       "'FCC.MC'"
      ]
     },
     "execution_count": 190,
     "metadata": {},
     "output_type": "execute_result"
    }
   ],
   "source": [
    "ScrapedAux[10].replace('\"','').replace('[','')"
   ]
  },
  {
   "cell_type": "code",
   "execution_count": 102,
   "metadata": {},
   "outputs": [
    {
     "name": "stdout",
     "output_type": "stream",
     "text": [
      "Name: ADV.MC type: <class 'str'>\n",
      "Name: BBG000DW1V13 type: <class 'str'>\n",
      "Name: GAS.MC type: <class 'str'>\n",
      "Name: DIN.MA type: <class 'str'>\n",
      "Name: ELE.MC type: <class 'str'>\n",
      "Name: EKT.MC type: <class 'str'>\n",
      "Name: APPS.MC type: <class 'str'>\n",
      "Name: CLNX.MC type: <class 'str'>\n",
      "Name: MDF.MC type: <class 'str'>\n",
      "Name: NTH.MC type: <class 'str'>\n",
      "Name: FCC.MC type: <class 'str'>\n",
      "Name: GALQ.MC type: <class 'str'>\n",
      "Name: OLE.MC type: <class 'str'>\n",
      "Name: FDR.MC type: <class 'str'>\n",
      "Name: AIR type: <class 'str'>\n",
      "Name: IBE.MC type: <class 'str'>\n",
      "Name: ABE.MC type: <class 'str'>\n",
      "Name: ZOT.MC type: <class 'str'>\n",
      "Name: A3M.MC type: <class 'str'>\n",
      "Name: REN.MC type: <class 'str'>\n",
      "Name: LRE.MC type: <class 'str'>\n",
      "Name: OHL.MC type: <class 'str'>\n",
      "Name: BDL.MC type: <class 'str'>\n",
      "Name: CMC.MC type: <class 'str'>\n",
      "Name: IDR.MC type: <class 'str'>\n",
      "Name: CIE.MC type: <class 'str'>\n",
      "Name: FAE.MC type: <class 'str'>\n",
      "Name: SCYR.MC type: <class 'str'>\n",
      "Name: EBRO.MC type: <class 'str'>\n",
      "Name: ANA.MC type: <class 'str'>\n",
      "Name: DIA.MC type: <class 'str'>\n",
      "Name: MEL.MC type: <class 'str'>\n",
      "Name: SAB.MC type: <class 'str'>\n",
      "Name: REE.MC type: <class 'str'>\n",
      "Name: CABK.MC type: <class 'str'>\n",
      "Name: DGI.MC type: <class 'str'>\n",
      "Name: TEC.MC type: <class 'str'>\n",
      "Name: PHM.MC type: <class 'str'>\n",
      "Name: MCM.MC type: <class 'str'>\n",
      "Name: ABG-P.MC type: <class 'str'>\n",
      "Name: ALB.MC type: <class 'str'>\n",
      "Name: BME.MC type: <class 'str'>\n",
      "Name: VID.MC type: <class 'str'>\n",
      "Name: RIO.MC type: <class 'str'>\n",
      "Name: ENC.MC type: <class 'str'>\n",
      "Name: IBG.MC type: <class 'str'>\n",
      "Name: VOC.MC type: <class 'str'>\n",
      "Name: TEF.MC type: <class 'str'>\n",
      "Name: AMP.MC type: <class 'str'>\n",
      "Name: CBAV.MC type: <class 'str'>\n",
      "Name: GAM.MC type: <class 'str'>\n",
      "Name: AMS.MC type: <class 'str'>\n",
      "Name: EDR.MC type: <class 'str'>\n",
      "Name: NAT.MC type: <class 'str'>\n",
      "Name: R4.MC type: <class 'str'>\n",
      "Name: REP.MC type: <class 'str'>\n",
      "Name: GSJ.MC type: <class 'str'>\n",
      "Name: SLR.MC type: <class 'str'>\n",
      "Name: ISUR.MC type: <class 'str'>\n",
      "Name: NHH.MC type: <class 'str'>\n",
      "Name: LOG.MC type: <class 'str'>\n",
      "Name: GCO.MC type: <class 'str'>\n",
      "Name: ABG.MC type: <class 'str'>\n",
      "Name: ENO.MC type: <class 'str'>\n",
      "Name: AENA.MC type: <class 'str'>\n",
      "Name: BIO.MC type: <class 'str'>\n",
      "Name: CAF.MC type: <class 'str'>\n",
      "Name: MAP.MC type: <class 'str'>\n",
      "Name: MRL.MC type: <class 'str'>\n",
      "Name: AXIA.MC type: <class 'str'>\n",
      "Name: HIS.MC type: <class 'str'>\n",
      "Name: NEA.MC type: <class 'str'>\n",
      "Name: ADZ.MC type: <class 'str'>\n",
      "Name: RLIA.MC type: <class 'str'>\n",
      "Name: PAC.MC type: <class 'str'>\n",
      "Name: TRE.MC type: <class 'str'>\n",
      "Name: CDR.MC type: <class 'str'>\n",
      "Name: BBVA.MC type: <class 'str'>\n",
      "Name: TLGO.MC type: <class 'str'>\n",
      "Name: VIS.MC type: <class 'str'>\n",
      "Name: CPL.MC type: <class 'str'>\n",
      "Name: ALM.MC type: <class 'str'>\n",
      "Name: FRS.MC type: <class 'str'>\n",
      "Name: SAY.MC type: <class 'str'>\n",
      "Name: MTB.MC type: <class 'str'>\n",
      "Name: UBS.MC type: <class 'str'>\n",
      "Name: ACX.MC type: <class 'str'>\n",
      "Name: ITX.MC type: <class 'str'>\n",
      "Name: AZK.MC type: <class 'str'>\n",
      "Name: LGT.MC type: <class 'str'>\n",
      "Name: ORY.MC type: <class 'str'>\n",
      "Name: SAN.MC type: <class 'str'>\n",
      "Name: TRG.MC type: <class 'str'>\n",
      "Name: TUB.MC type: <class 'str'>\n",
      "Name: ENG.MC type: <class 'str'>\n",
      "Name: ACS.MC type: <class 'str'>\n",
      "Name: IAG.MC type: <class 'str'>\n",
      "Name: PRM.MC type: <class 'str'>\n",
      "Name: INY.MC type: <class 'str'>\n",
      "Name: TL5.MC type: <class 'str'>\n"
     ]
    }
   ],
   "source": [
    "# Before generating a dataframe, we verify that tickers  are extracted correctly and their data type.\n",
    "for i in range(len(ScrapedAux)):\n",
    "    tiker = ScrapedAux[i].replace('\"','').replace('[','')\n",
    "    print('Name:', tiker, 'type:', type(tiker))"
   ]
  },
  {
   "cell_type": "code",
   "execution_count": 158,
   "metadata": {},
   "outputs": [
    {
     "data": {
      "text/html": [
       "<div>\n",
       "<style scoped>\n",
       "    .dataframe tbody tr th:only-of-type {\n",
       "        vertical-align: middle;\n",
       "    }\n",
       "\n",
       "    .dataframe tbody tr th {\n",
       "        vertical-align: top;\n",
       "    }\n",
       "\n",
       "    .dataframe thead th {\n",
       "        text-align: right;\n",
       "    }\n",
       "</style>\n",
       "<table border=\"1\" class=\"dataframe\">\n",
       "  <thead>\n",
       "    <tr style=\"text-align: right;\">\n",
       "      <th></th>\n",
       "      <th>ticker</th>\n",
       "    </tr>\n",
       "  </thead>\n",
       "  <tbody>\n",
       "    <tr>\n",
       "      <th>0</th>\n",
       "      <td>NaN</td>\n",
       "    </tr>\n",
       "    <tr>\n",
       "      <th>1</th>\n",
       "      <td>NaN</td>\n",
       "    </tr>\n",
       "    <tr>\n",
       "      <th>2</th>\n",
       "      <td>NaN</td>\n",
       "    </tr>\n",
       "    <tr>\n",
       "      <th>3</th>\n",
       "      <td>NaN</td>\n",
       "    </tr>\n",
       "    <tr>\n",
       "      <th>4</th>\n",
       "      <td>NaN</td>\n",
       "    </tr>\n",
       "  </tbody>\n",
       "</table>\n",
       "</div>"
      ],
      "text/plain": [
       "  ticker\n",
       "0    NaN\n",
       "1    NaN\n",
       "2    NaN\n",
       "3    NaN\n",
       "4    NaN"
      ]
     },
     "execution_count": 158,
     "metadata": {},
     "output_type": "execute_result"
    }
   ],
   "source": [
    "# We created a new dataframe to store the extracted tikers\n",
    "index = range(len(ScrapedAux))\n",
    "df_tikers = pd.DataFrame(index=index, columns = ['ticker'])\n",
    "df_tikers.head()"
   ]
  },
  {
   "cell_type": "code",
   "execution_count": 159,
   "metadata": {},
   "outputs": [],
   "source": [
    "#We add each ticker to the dataframe\n",
    "for i in range(len(ScrapedAux)):\n",
    "    #print('Name:', ScrapedAux[i].replace('\"','').replace('[',''))\n",
    "    tiker = ScrapedAux[i].replace('\"','').replace('[','')\n",
    "    df_tikers['ticker'][i] = tiker"
   ]
  },
  {
   "cell_type": "code",
   "execution_count": 160,
   "metadata": {},
   "outputs": [
    {
     "data": {
      "text/html": [
       "<div>\n",
       "<style scoped>\n",
       "    .dataframe tbody tr th:only-of-type {\n",
       "        vertical-align: middle;\n",
       "    }\n",
       "\n",
       "    .dataframe tbody tr th {\n",
       "        vertical-align: top;\n",
       "    }\n",
       "\n",
       "    .dataframe thead th {\n",
       "        text-align: right;\n",
       "    }\n",
       "</style>\n",
       "<table border=\"1\" class=\"dataframe\">\n",
       "  <thead>\n",
       "    <tr style=\"text-align: right;\">\n",
       "      <th></th>\n",
       "      <th>ticker</th>\n",
       "    </tr>\n",
       "  </thead>\n",
       "  <tbody>\n",
       "    <tr>\n",
       "      <th>0</th>\n",
       "      <td>ADV.MC</td>\n",
       "    </tr>\n",
       "    <tr>\n",
       "      <th>1</th>\n",
       "      <td>BBG000DW1V13</td>\n",
       "    </tr>\n",
       "    <tr>\n",
       "      <th>2</th>\n",
       "      <td>GAS.MC</td>\n",
       "    </tr>\n",
       "    <tr>\n",
       "      <th>3</th>\n",
       "      <td>DIN.MA</td>\n",
       "    </tr>\n",
       "    <tr>\n",
       "      <th>4</th>\n",
       "      <td>ELE.MC</td>\n",
       "    </tr>\n",
       "  </tbody>\n",
       "</table>\n",
       "</div>"
      ],
      "text/plain": [
       "         ticker\n",
       "0        ADV.MC\n",
       "1  BBG000DW1V13\n",
       "2        GAS.MC\n",
       "3        DIN.MA\n",
       "4        ELE.MC"
      ]
     },
     "execution_count": 160,
     "metadata": {},
     "output_type": "execute_result"
    }
   ],
   "source": [
    "df_tikers.head()"
   ]
  },
  {
   "cell_type": "code",
   "execution_count": 162,
   "metadata": {},
   "outputs": [],
   "source": [
    "#We removed some ticker whose format does not match the acronyms used by Yahoo\n",
    "df_tikers = df_tikers[~(df_tikers['ticker'].astype(str).str.len()>=9)]\n",
    "df_tikers.reset_index(drop=True, inplace=True)"
   ]
  },
  {
   "cell_type": "code",
   "execution_count": 167,
   "metadata": {},
   "outputs": [
    {
     "data": {
      "text/html": [
       "<div>\n",
       "<style scoped>\n",
       "    .dataframe tbody tr th:only-of-type {\n",
       "        vertical-align: middle;\n",
       "    }\n",
       "\n",
       "    .dataframe tbody tr th {\n",
       "        vertical-align: top;\n",
       "    }\n",
       "\n",
       "    .dataframe thead th {\n",
       "        text-align: right;\n",
       "    }\n",
       "</style>\n",
       "<table border=\"1\" class=\"dataframe\">\n",
       "  <thead>\n",
       "    <tr style=\"text-align: right;\">\n",
       "      <th></th>\n",
       "      <th>ticker</th>\n",
       "    </tr>\n",
       "  </thead>\n",
       "  <tbody>\n",
       "    <tr>\n",
       "      <th>0</th>\n",
       "      <td>ADV.MC</td>\n",
       "    </tr>\n",
       "    <tr>\n",
       "      <th>1</th>\n",
       "      <td>GAS.MC</td>\n",
       "    </tr>\n",
       "    <tr>\n",
       "      <th>2</th>\n",
       "      <td>DIN.MA</td>\n",
       "    </tr>\n",
       "    <tr>\n",
       "      <th>3</th>\n",
       "      <td>ELE.MC</td>\n",
       "    </tr>\n",
       "    <tr>\n",
       "      <th>4</th>\n",
       "      <td>EKT.MC</td>\n",
       "    </tr>\n",
       "  </tbody>\n",
       "</table>\n",
       "</div>"
      ],
      "text/plain": [
       "   ticker\n",
       "0  ADV.MC\n",
       "1  GAS.MC\n",
       "2  DIN.MA\n",
       "3  ELE.MC\n",
       "4  EKT.MC"
      ]
     },
     "execution_count": 167,
     "metadata": {},
     "output_type": "execute_result"
    }
   ],
   "source": [
    "df_tikers.head()"
   ]
  },
  {
   "cell_type": "code",
   "execution_count": 168,
   "metadata": {},
   "outputs": [],
   "source": [
    "for i in range(len(list_of_fields)):\n",
    "    df_tikers[list_of_fields[i]] = ''\n",
    "#We added two more fields to identify each company\n",
    "df_tikers['ScrapedName'] = ''\n",
    "df_tikers['Sector'] = ''"
   ]
  },
  {
   "cell_type": "code",
   "execution_count": 169,
   "metadata": {},
   "outputs": [
    {
     "data": {
      "text/html": [
       "<div>\n",
       "<style scoped>\n",
       "    .dataframe tbody tr th:only-of-type {\n",
       "        vertical-align: middle;\n",
       "    }\n",
       "\n",
       "    .dataframe tbody tr th {\n",
       "        vertical-align: top;\n",
       "    }\n",
       "\n",
       "    .dataframe thead th {\n",
       "        text-align: right;\n",
       "    }\n",
       "</style>\n",
       "<table border=\"1\" class=\"dataframe\">\n",
       "  <thead>\n",
       "    <tr style=\"text-align: right;\">\n",
       "      <th></th>\n",
       "      <th>ticker</th>\n",
       "      <th>Market Cap</th>\n",
       "      <th>Enterprise Value</th>\n",
       "      <th>Trailing P/E</th>\n",
       "      <th>Forward P/E</th>\n",
       "      <th>PEG Ratio</th>\n",
       "      <th>Price/Sales</th>\n",
       "      <th>Price/Book</th>\n",
       "      <th>Enterprise Value/Revenue</th>\n",
       "      <th>Enterprise Value/EBITDA</th>\n",
       "      <th>...</th>\n",
       "      <th>Trailing Annual Dividend Rate</th>\n",
       "      <th>Trailing Annual Dividend Yield</th>\n",
       "      <th>5 Year Average Dividend Yield</th>\n",
       "      <th>Payout Ratio</th>\n",
       "      <th>Dividend Date</th>\n",
       "      <th>Ex-Dividend Date</th>\n",
       "      <th>Last Split Factor</th>\n",
       "      <th>Last Split Date</th>\n",
       "      <th>ScrapedName</th>\n",
       "      <th>Sector</th>\n",
       "    </tr>\n",
       "  </thead>\n",
       "  <tbody>\n",
       "    <tr>\n",
       "      <th>0</th>\n",
       "      <td>ADV.MC</td>\n",
       "      <td></td>\n",
       "      <td></td>\n",
       "      <td></td>\n",
       "      <td></td>\n",
       "      <td></td>\n",
       "      <td></td>\n",
       "      <td></td>\n",
       "      <td></td>\n",
       "      <td></td>\n",
       "      <td>...</td>\n",
       "      <td></td>\n",
       "      <td></td>\n",
       "      <td></td>\n",
       "      <td></td>\n",
       "      <td></td>\n",
       "      <td></td>\n",
       "      <td></td>\n",
       "      <td></td>\n",
       "      <td></td>\n",
       "      <td></td>\n",
       "    </tr>\n",
       "    <tr>\n",
       "      <th>1</th>\n",
       "      <td>GAS.MC</td>\n",
       "      <td></td>\n",
       "      <td></td>\n",
       "      <td></td>\n",
       "      <td></td>\n",
       "      <td></td>\n",
       "      <td></td>\n",
       "      <td></td>\n",
       "      <td></td>\n",
       "      <td></td>\n",
       "      <td>...</td>\n",
       "      <td></td>\n",
       "      <td></td>\n",
       "      <td></td>\n",
       "      <td></td>\n",
       "      <td></td>\n",
       "      <td></td>\n",
       "      <td></td>\n",
       "      <td></td>\n",
       "      <td></td>\n",
       "      <td></td>\n",
       "    </tr>\n",
       "    <tr>\n",
       "      <th>2</th>\n",
       "      <td>DIN.MA</td>\n",
       "      <td></td>\n",
       "      <td></td>\n",
       "      <td></td>\n",
       "      <td></td>\n",
       "      <td></td>\n",
       "      <td></td>\n",
       "      <td></td>\n",
       "      <td></td>\n",
       "      <td></td>\n",
       "      <td>...</td>\n",
       "      <td></td>\n",
       "      <td></td>\n",
       "      <td></td>\n",
       "      <td></td>\n",
       "      <td></td>\n",
       "      <td></td>\n",
       "      <td></td>\n",
       "      <td></td>\n",
       "      <td></td>\n",
       "      <td></td>\n",
       "    </tr>\n",
       "    <tr>\n",
       "      <th>3</th>\n",
       "      <td>ELE.MC</td>\n",
       "      <td></td>\n",
       "      <td></td>\n",
       "      <td></td>\n",
       "      <td></td>\n",
       "      <td></td>\n",
       "      <td></td>\n",
       "      <td></td>\n",
       "      <td></td>\n",
       "      <td></td>\n",
       "      <td>...</td>\n",
       "      <td></td>\n",
       "      <td></td>\n",
       "      <td></td>\n",
       "      <td></td>\n",
       "      <td></td>\n",
       "      <td></td>\n",
       "      <td></td>\n",
       "      <td></td>\n",
       "      <td></td>\n",
       "      <td></td>\n",
       "    </tr>\n",
       "    <tr>\n",
       "      <th>4</th>\n",
       "      <td>EKT.MC</td>\n",
       "      <td></td>\n",
       "      <td></td>\n",
       "      <td></td>\n",
       "      <td></td>\n",
       "      <td></td>\n",
       "      <td></td>\n",
       "      <td></td>\n",
       "      <td></td>\n",
       "      <td></td>\n",
       "      <td>...</td>\n",
       "      <td></td>\n",
       "      <td></td>\n",
       "      <td></td>\n",
       "      <td></td>\n",
       "      <td></td>\n",
       "      <td></td>\n",
       "      <td></td>\n",
       "      <td></td>\n",
       "      <td></td>\n",
       "      <td></td>\n",
       "    </tr>\n",
       "  </tbody>\n",
       "</table>\n",
       "<p>5 rows × 61 columns</p>\n",
       "</div>"
      ],
      "text/plain": [
       "   ticker Market Cap Enterprise Value Trailing P/E Forward P/E PEG Ratio  \\\n",
       "0  ADV.MC                                                                  \n",
       "1  GAS.MC                                                                  \n",
       "2  DIN.MA                                                                  \n",
       "3  ELE.MC                                                                  \n",
       "4  EKT.MC                                                                  \n",
       "\n",
       "  Price/Sales Price/Book Enterprise Value/Revenue Enterprise Value/EBITDA  \\\n",
       "0                                                                           \n",
       "1                                                                           \n",
       "2                                                                           \n",
       "3                                                                           \n",
       "4                                                                           \n",
       "\n",
       "   ... Trailing Annual Dividend Rate Trailing Annual Dividend Yield  \\\n",
       "0  ...                                                                \n",
       "1  ...                                                                \n",
       "2  ...                                                                \n",
       "3  ...                                                                \n",
       "4  ...                                                                \n",
       "\n",
       "  5 Year Average Dividend Yield Payout Ratio Dividend Date Ex-Dividend Date  \\\n",
       "0                                                                             \n",
       "1                                                                             \n",
       "2                                                                             \n",
       "3                                                                             \n",
       "4                                                                             \n",
       "\n",
       "  Last Split Factor Last Split Date ScrapedName Sector  \n",
       "0                                                       \n",
       "1                                                       \n",
       "2                                                       \n",
       "3                                                       \n",
       "4                                                       \n",
       "\n",
       "[5 rows x 61 columns]"
      ]
     },
     "execution_count": 169,
     "metadata": {},
     "output_type": "execute_result"
    }
   ],
   "source": [
    "df_tikers.head()"
   ]
  },
  {
   "cell_type": "code",
   "execution_count": 170,
   "metadata": {},
   "outputs": [
    {
     "name": "stdout",
     "output_type": "stream",
     "text": [
      "ticker = ELE.MC company name =  ENDESA,S.A. (ELE.MC) sector= Utilities 3  de  99\n",
      "ticker = EKT.MC company name =  EUSKALTEL, S.A. (EKT.MC) sector= Communication Services 4  de  99\n",
      "ticker = APPS.MC company name =  APPLUS SERVICES, S.A. (APPS.MC) sector=  5  de  99\n",
      "ticker = CLNX.MC company name =  CELLNEX TELECOM, S.A. (CLNX.MC) sector= Communication Services 6  de  99\n",
      "ticker = MDF.MC company name =  DURO FELGUERA, S.A. (MDF.MC) sector=  7  de  99\n",
      "ticker = NTH.MC company name =  NATURHOUSE HEALTH, S.A (NTH.MC) sector=  8  de  99\n",
      "ticker = FCC.MC company name =  ACCIONES FOMENTO DE CONSTRUCCIO (FCC.MC) sector= Industrials 9  de  99\n",
      "ticker = GALQ.MC company name =  GENERAL DE ALQUILER DE MAQUINAR (GALQ.MC) sector=  10  de  99\n",
      "ticker = OLE.MC company name =  DEOLEO, S.A. (OLE.MC) sector=  11  de  99\n",
      "ticker = FDR.MC company name =  FLUIDRA, S.A. (FDR.MC) sector=  12  de  99\n",
      "ticker = AIR company name =  AAR Corp. (AIR) sector=  13  de  99\n",
      "ticker = IBE.MC company name =  ACCIONES IBERDROLA (IBE.MC) sector= Utilities 14  de  99\n",
      "ticker = ZOT.MC company name =  ZARDOYA OTIS, S.A. (ZOT.MC) sector= Industrials 16  de  99\n",
      "ticker = A3M.MC company name =  ATRESMEDIA CORPORACION DE MEDIO (A3M.MC) sector= Communication Services 17  de  99\n",
      "ticker = REN.MC company name =  RENTA CORPORACION REAL ESTATE,  (REN.MC) sector=  18  de  99\n",
      "ticker = LRE.MC company name =  LAR ESPANA REAL ESTATE SOCIMI,  (LRE.MC) sector=  19  de  99\n",
      "ticker = OHL.MC company name =  OBRASCON HUARTE LAIN, S.A. (OHL.MC) sector=  20  de  99\n",
      "ticker = BDL.MC company name =  BARON DE LEY,S.A. (BDL.MC) sector= Consumer Defensive 21  de  99\n",
      "ticker = CMC.MC company name =  CORPORACION EMPRESARIAL DE MATE (CMC.MC) sector=  22  de  99\n",
      "ticker = IDR.MC company name =  INDRA SISTEMAS S.A., SERIE A (IDR.MC) sector= Technology 23  de  99\n",
      "ticker = CIE.MC company name =  CIE AUTOMOTIVE, S.A. (CIE.MC) sector= Consumer Cyclical 24  de  99\n",
      "ticker = FAE.MC company name =  FAES FARMA, S.A. (FAE.MC) sector=  25  de  99\n",
      "ticker = SCYR.MC company name =  SACYR, S.A. (SCYR.MC) sector= Industrials 26  de  99\n",
      "ticker = EBRO.MC company name =  EBRO FOODS, S.A. (EBRO.MC) sector=  27  de  99\n",
      "ticker = ANA.MC company name =  ACCIONA, S.A. (ANA.MC) sector=  28  de  99\n",
      "ticker = DIA.MC company name =  DISTRIBUIDORA INTERNACIONAL DE  (DIA.MC) sector=  29  de  99\n",
      "ticker = MEL.MC company name =  MELIA HOTELS INTERNATIONAL, S.A (MEL.MC) sector=  30  de  99\n",
      "ticker = SAB.MC company name =  BANCO DE SABADELL (SAB.MC) sector=  31  de  99\n",
      "ticker = REE.MC company name =  RED ELECTRICA CORPORACION, S.A. (REE.MC) sector= Utilities 32  de  99\n",
      "ticker = CABK.MC company name =  CAIXABANK, S.A. (CABK.MC) sector= Financial Services 33  de  99\n",
      "ticker = PHM.MC company name =  PHARMA MAR, S.A. (PHM.MC) sector=  36  de  99\n",
      "ticker = MCM.MC company name =  MIQUEL Y COSTAS &amp; MIQUEL, S.A. (MCM.MC) sector=  37  de  99\n",
      "ticker = ABG-P.MC company name =  ABENGOA CLASE B (ABG-P.MC) sector=  38  de  99\n",
      "ticker = ALB.MC company name =  CORPORACION FINANCIERA ALBA S.A (ALB.MC) sector= Financial Services 39  de  99\n",
      "ticker = BME.MC company name =  BOLSAS Y MERCADOS ESPANOLES,SOC (BME.MC) sector= Financial Services 40  de  99\n",
      "ticker = VID.MC company name =  VIDRALA, S.A. (VID.MC) sector= Consumer Cyclical 41  de  99\n",
      "ticker = RIO.MC company name =  BODEGAS RIOJANAS,S.A. (RIO.MC) sector= Consumer Defensive 42  de  99\n",
      "ticker = ENC.MC company name =  ENCE ENERGIA Y CELULOSA, S.A. (ENC.MC) sector= Basic Materials 43  de  99\n",
      "ticker = IBG.MC company name =  IBERPAPEL GESTION,S.A. (IBG.MC) sector= Basic Materials 44  de  99\n",
      "ticker = VOC.MC company name =  VOCENTO (VOC.MC) sector= Communication Services 45  de  99\n",
      "ticker = TEF.MC company name =  TELEFONICA,S.A. (TEF.MC) sector=  46  de  99\n",
      "ticker = AMP.MC company name =  AMPER, S.A. (AMP.MC) sector=  47  de  99\n",
      "ticker = CBAV.MC company name =  CLINICA BAVIERA S.A. (CBAV.MC) sector= Healthcare 48  de  99\n",
      "ticker = AMS.MC company name =  AMADEUS IT GROUP, S.A. (AMS.MC) sector= Technology 50  de  99\n",
      "ticker = EDR.MC company name =  EDREAMS ODIGEO, S.A. (EDR.MC) sector= Consumer Cyclical 51  de  99\n",
      "ticker = R4.MC company name =  RENTA 4 BANCO, S.A. (R4.MC) sector= Financial Services 53  de  99\n",
      "ticker = REP.MC company name =  REPSOL,  S.A. (REP.MC) sector= Energy 54  de  99\n",
      "ticker = GSJ.MC company name =  GRUPO EMPRESARIAL SAN JOSE, S.A (GSJ.MC) sector= Industrials 55  de  99\n",
      "ticker = SLR.MC company name =  SOLARIA ENERGIA Y MEDIO AMBIENT (SLR.MC) sector= Utilities 56  de  99\n",
      "ticker = ISUR.MC company name =  INMOBILIARIA DEL SUR S.A. (ISUR.MC) sector= Real Estate 57  de  99\n",
      "ticker = NHH.MC company name =  NH HOTEL GROUP, S.A. (NHH.MC) sector=  58  de  99\n",
      "ticker = LOG.MC company name =  COMPANIA DE DISTRIBUCION INTEGR (LOG.MC) sector=  59  de  99\n",
      "ticker = GCO.MC company name =  GRUPO CATALANA OCCIDENTE, S.A. (GCO.MC) sector= Financial Services 60  de  99\n",
      "ticker = ABG.MC company name =  ABENGOA, S.A. (ABG.MC) sector=  61  de  99\n",
      "ticker = ENO.MC company name =  ELECNOR S.A. (ENO.MC) sector=  62  de  99\n",
      "ticker = AENA.MC company name =  AENA, S.M.E., S.A. (AENA.MC) sector=  63  de  99\n",
      "ticker = BIO.MC company name =  BIOSEARCH, S.A. (BIO.MC) sector= Healthcare 64  de  99\n",
      "ticker = CAF.MC company name =  CONSTRUCCIONES Y AUXILIAR DE FE (CAF.MC) sector= Industrials 65  de  99\n",
      "ticker = MAP.MC company name =  MAPFRE, S.A. (MAP.MC) sector= Financial Services 66  de  99\n",
      "ticker = MRL.MC company name =  MERLIN PROPERTIES SOCIMI, S.A. (MRL.MC) sector= Real Estate 67  de  99\n",
      "ticker = NEA.MC company name =  NICOLAS CORREA (NEA.MC) sector= Industrials 70  de  99\n",
      "ticker = ADZ.MC company name =  ADOLFO DOMINGUEZ, S.A. (ADZ.MC) sector=  71  de  99\n",
      "ticker = RLIA.MC company name =  REALIA BUSINESS, S.A. (RLIA.MC) sector= Real Estate 72  de  99\n",
      "ticker = TRE.MC company name =  TECNICAS REUNIDAS S.A. (TRE.MC) sector= Industrials 74  de  99\n",
      "ticker = CDR.MC company name =  CODERE S.A. (CDR.MC) sector= Consumer Cyclical 75  de  99\n",
      "ticker = BBVA.MC company name =  BANCO BILBAO VIZCAYA ARGENTARIA (BBVA.MC) sector= Financial Services 76  de  99\n",
      "ticker = TLGO.MC company name =  TALGO, S.A. (TLGO.MC) sector=  77  de  99\n",
      "ticker = VIS.MC company name =  VISCOFAN, S.A. (VIS.MC) sector=  78  de  99\n",
      "ticker = ALM.MC company name =  ALMIRALL S.A. (ALM.MC) sector= Healthcare 80  de  99\n",
      "ticker = MTB.MC company name =  MONTEBALITO, S.A. (MTB.MC) sector= Real Estate 83  de  99\n",
      "ticker = UBS.MC company name =  URBAS GRUPO FINANCIERO, S.A. (UBS.MC) sector= Real Estate 84  de  99\n",
      "ticker = ACX.MC company name =  ACERINOX, S.A. (ACX.MC) sector= Basic Materials 85  de  99\n",
      "ticker = ITX.MC company name =  INDUSTRIA DE DISE\\\\O TEXTIL S.A. (ITX.MC) sector=  86  de  99\n",
      "ticker = AZK.MC company name =  AZKOYEN, S.A. (AZK.MC) sector= Industrials 87  de  99\n",
      "ticker = LGT.MC company name =  LINGOTES ESPECIALES, S.A. (LGT.MC) sector=  88  de  99\n",
      "ticker = ORY.MC company name =  ORYZON GENOMICS, S.A. (ORY.MC) sector=  89  de  99\n",
      "ticker = SAN.MC company name =  BANCO SANTANDER S.A. (SAN.MC) sector=  90  de  99\n",
      "ticker = TRG.MC company name =  TUBOS REUNIDOS S.A. (TRG.MC) sector= Basic Materials 91  de  99\n",
      "ticker = TUB.MC company name =  TUBACEX, S.A. (TUB.MC) sector= Basic Materials 92  de  99\n",
      "ticker = ENG.MC company name =  ENAGAS,S.A. (ENG.MC) sector= Utilities 93  de  99\n",
      "ticker = ACS.MC company name =  ACS,ACTIVIDADES DE CONSTRUCCION (ACS.MC) sector= Industrials 94  de  99\n",
      "ticker = IAG.MC company name =  INTL CONSOLIDATED AIRLINES GROU (IAG.MC) sector=  95  de  99\n",
      "ticker = PRM.MC company name =  PRIM, S.A. (PRM.MC) sector=  96  de  99\n",
      "ticker = TL5.MC company name =  MEDIASET ESPANA COMUNICACION, S (TL5.MC) sector= Communication Services 98  de  99\n"
     ]
    }
   ],
   "source": [
    "# Design Scrape Function considering potential yahoo connection errors\n",
    "# Scrapping data for each ticker in the df\n",
    "error = 0\n",
    "for j in range(len(df_tikers)):\n",
    "    #print (\"ticker =\", df['ticker'][j],j, \" de \", len(df))    \n",
    "   \n",
    "    stock = df_tikers['ticker'][j]\n",
    "\n",
    "    # Requesting information from Yahoo and insisting if does not respond - stopping the program if Yahoo doesn´t reply \n",
    "    # for two tickers in sequence!\n",
    "    try:\n",
    "        sourceCode = str(urlopen('https://finance.yahoo.com/quote/'+stock+'/key-statistics?p='+stock).read())\n",
    "        error = 0\n",
    "    except:\n",
    "        time.sleep(randint(1,12))\n",
    "        try:\n",
    "            sourceCode = str(urlopen('https://finance.yahoo.com/quote/'+stock+'/key-statistics?p='+stock).read())\n",
    "            error = 0\n",
    "        except:\n",
    "            if error == 0:\n",
    "                time.sleep(randint(10,100))\n",
    "                error = 1\n",
    "                continue\n",
    "            else:\n",
    "                break\n",
    "\n",
    "    # Finding company name in Yahoo page to make sure we getting the correct company - company name is easy to find.\n",
    "    compname= sourceCode.split('Find out all the key statistics for')[1].split(', including')[0]\n",
    "    if compname.find('{shortName} ({symbol})') >= 0:\n",
    "        continue   \n",
    "    df_tikers['ScrapedName'].iloc[j] = compname           \n",
    "\n",
    "    # Yahoo finance has 2 ways of opening and closing tags </td></tr> OR </span></td></tr>, \n",
    "    # so we remove the </span> to make them all the same:\n",
    "    sourceCode = sourceCode.replace('</span>','')\n",
    "    \n",
    "    for field in list_of_fields:\n",
    "        try:\n",
    "            ScrapedValue = sourceCode.split('>' + field)[1].split('</td></tr>')[0].split('>')[-1]\n",
    "            #print (\"field=\",field, \" / scraped valued= \", ScrapedValue)\n",
    "            df_tikers[field].iloc[j] = ScrapedValue\n",
    "        except:\n",
    "            df_tikers[field].iloc[j] = np.nan\n",
    "            continue\n",
    "\n",
    "    # Also grabbing company sector from yahoo page.\n",
    "    try:\n",
    "        ScrapedSector = ''\n",
    "        #sourceCode = str(urlopen('https://finance.yahoo.com/quote/'+stock+'/profile?p='+stock).read())\n",
    "        sourceCode_profile = str(urlopen('https://finance.yahoo.com/quote/'+stock+'/profile?p='+stock).read())\n",
    "        #ScrapedAux = sourceCode.split('>Sector')[1].split('</strong>')[0].split('>')\n",
    "        ScrapedAux = sourceCode_profile.split('class=\"Fw(600)\" data-reactid=\"21\">')[1].split('</span>')[0].split('>')\n",
    "        ScrapedSector = ScrapedAux[len(ScrapedAux)-1]\n",
    "        df_tikers['Sector'].iloc[j] = ScrapedSector\n",
    "    except:\n",
    "        True\n",
    "    print (\"ticker =\", df_tikers['ticker'][j], \"company name =\", compname,\"sector=\",ScrapedSector,j, \" de \", len(df_tikers))"
   ]
  },
  {
   "cell_type": "code",
   "execution_count": 191,
   "metadata": {},
   "outputs": [
    {
     "data": {
      "text/html": [
       "<div>\n",
       "<style scoped>\n",
       "    .dataframe tbody tr th:only-of-type {\n",
       "        vertical-align: middle;\n",
       "    }\n",
       "\n",
       "    .dataframe tbody tr th {\n",
       "        vertical-align: top;\n",
       "    }\n",
       "\n",
       "    .dataframe thead th {\n",
       "        text-align: right;\n",
       "    }\n",
       "</style>\n",
       "<table border=\"1\" class=\"dataframe\">\n",
       "  <thead>\n",
       "    <tr style=\"text-align: right;\">\n",
       "      <th></th>\n",
       "      <th>ticker</th>\n",
       "      <th>Market Cap</th>\n",
       "      <th>Enterprise Value</th>\n",
       "      <th>Trailing P/E</th>\n",
       "      <th>Forward P/E</th>\n",
       "      <th>PEG Ratio</th>\n",
       "      <th>Price/Sales</th>\n",
       "      <th>Price/Book</th>\n",
       "      <th>Enterprise Value/Revenue</th>\n",
       "      <th>Enterprise Value/EBITDA</th>\n",
       "      <th>...</th>\n",
       "      <th>Trailing Annual Dividend Rate</th>\n",
       "      <th>Trailing Annual Dividend Yield</th>\n",
       "      <th>5 Year Average Dividend Yield</th>\n",
       "      <th>Payout Ratio</th>\n",
       "      <th>Dividend Date</th>\n",
       "      <th>Ex-Dividend Date</th>\n",
       "      <th>Last Split Factor</th>\n",
       "      <th>Last Split Date</th>\n",
       "      <th>ScrapedName</th>\n",
       "      <th>Sector</th>\n",
       "    </tr>\n",
       "  </thead>\n",
       "  <tbody>\n",
       "    <tr>\n",
       "      <th>94</th>\n",
       "      <td>ACS.MC</td>\n",
       "      <td>9.24B</td>\n",
       "      <td>13.13B</td>\n",
       "      <td>9.44</td>\n",
       "      <td>10.69</td>\n",
       "      <td>6.22</td>\n",
       "      <td>0.24</td>\n",
       "      <td>2.16</td>\n",
       "      <td>0.34</td>\n",
       "      <td>5.64</td>\n",
       "      <td>...</td>\n",
       "      <td>2.34</td>\n",
       "      <td>7.86%</td>\n",
       "      <td>4.11</td>\n",
       "      <td>59.72%</td>\n",
       "      <td>N/A</td>\n",
       "      <td>Feb 18, 2020</td>\n",
       "      <td>2:1</td>\n",
       "      <td>Jun 27, 2017</td>\n",
       "      <td>ACS,ACTIVIDADES DE CONSTRUCCION (ACS.MC)</td>\n",
       "      <td>Industrials</td>\n",
       "    </tr>\n",
       "    <tr>\n",
       "      <th>95</th>\n",
       "      <td>IAG.MC</td>\n",
       "      <td>15.03B</td>\n",
       "      <td>20.1B</td>\n",
       "      <td>7.01</td>\n",
       "      <td>6.41</td>\n",
       "      <td>1.53</td>\n",
       "      <td>0.59</td>\n",
       "      <td>2.39</td>\n",
       "      <td>0.79</td>\n",
       "      <td>4.78</td>\n",
       "      <td>...</td>\n",
       "      <td>0.31</td>\n",
       "      <td>4.02%</td>\n",
       "      <td>N/A</td>\n",
       "      <td>29.00%</td>\n",
       "      <td>N/A</td>\n",
       "      <td>Nov 28, 2019</td>\n",
       "      <td>N/A</td>\n",
       "      <td>N/A</td>\n",
       "      <td>INTL CONSOLIDATED AIRLINES GROU (IAG.MC)</td>\n",
       "      <td></td>\n",
       "    </tr>\n",
       "    <tr>\n",
       "      <th>96</th>\n",
       "      <td>PRM.MC</td>\n",
       "      <td>198.44M</td>\n",
       "      <td>199.67M</td>\n",
       "      <td>16.52</td>\n",
       "      <td>N/A</td>\n",
       "      <td>N/A</td>\n",
       "      <td>1.36</td>\n",
       "      <td>1.85</td>\n",
       "      <td>1.37</td>\n",
       "      <td>10.20</td>\n",
       "      <td>...</td>\n",
       "      <td>0.47</td>\n",
       "      <td>4.05%</td>\n",
       "      <td>4.70</td>\n",
       "      <td>82.56%</td>\n",
       "      <td>N/A</td>\n",
       "      <td>Jan 14, 2020</td>\n",
       "      <td>2:1</td>\n",
       "      <td>Feb 20, 2006</td>\n",
       "      <td>PRIM, S.A. (PRM.MC)</td>\n",
       "      <td></td>\n",
       "    </tr>\n",
       "    <tr>\n",
       "      <th>97</th>\n",
       "      <td>INY.MC</td>\n",
       "      <td></td>\n",
       "      <td></td>\n",
       "      <td></td>\n",
       "      <td></td>\n",
       "      <td></td>\n",
       "      <td></td>\n",
       "      <td></td>\n",
       "      <td></td>\n",
       "      <td></td>\n",
       "      <td>...</td>\n",
       "      <td></td>\n",
       "      <td></td>\n",
       "      <td></td>\n",
       "      <td></td>\n",
       "      <td></td>\n",
       "      <td></td>\n",
       "      <td></td>\n",
       "      <td></td>\n",
       "      <td></td>\n",
       "      <td></td>\n",
       "    </tr>\n",
       "    <tr>\n",
       "      <th>98</th>\n",
       "      <td>TL5.MC</td>\n",
       "      <td>1.55B</td>\n",
       "      <td>1.51B</td>\n",
       "      <td>7.63</td>\n",
       "      <td>7.75</td>\n",
       "      <td>3.64</td>\n",
       "      <td>1.66</td>\n",
       "      <td>1.93</td>\n",
       "      <td>1.61</td>\n",
       "      <td>5.30</td>\n",
       "      <td>...</td>\n",
       "      <td>0.31</td>\n",
       "      <td>6.28%</td>\n",
       "      <td>N/A</td>\n",
       "      <td>47.82%</td>\n",
       "      <td>N/A</td>\n",
       "      <td>Apr 26, 2019</td>\n",
       "      <td>N/A</td>\n",
       "      <td>N/A</td>\n",
       "      <td>MEDIASET ESPANA COMUNICACION, S (TL5.MC)</td>\n",
       "      <td>Communication Services</td>\n",
       "    </tr>\n",
       "  </tbody>\n",
       "</table>\n",
       "<p>5 rows × 61 columns</p>\n",
       "</div>"
      ],
      "text/plain": [
       "    ticker Market Cap Enterprise Value Trailing P/E Forward P/E PEG Ratio  \\\n",
       "94  ACS.MC      9.24B           13.13B         9.44       10.69      6.22   \n",
       "95  IAG.MC     15.03B            20.1B         7.01        6.41      1.53   \n",
       "96  PRM.MC    198.44M          199.67M        16.52         N/A       N/A   \n",
       "97  INY.MC                                                                  \n",
       "98  TL5.MC      1.55B            1.51B         7.63        7.75      3.64   \n",
       "\n",
       "   Price/Sales Price/Book Enterprise Value/Revenue Enterprise Value/EBITDA  \\\n",
       "94        0.24       2.16                     0.34                    5.64   \n",
       "95        0.59       2.39                     0.79                    4.78   \n",
       "96        1.36       1.85                     1.37                   10.20   \n",
       "97                                                                           \n",
       "98        1.66       1.93                     1.61                    5.30   \n",
       "\n",
       "    ... Trailing Annual Dividend Rate Trailing Annual Dividend Yield  \\\n",
       "94  ...                          2.34                          7.86%   \n",
       "95  ...                          0.31                          4.02%   \n",
       "96  ...                          0.47                          4.05%   \n",
       "97  ...                                                                \n",
       "98  ...                          0.31                          6.28%   \n",
       "\n",
       "   5 Year Average Dividend Yield Payout Ratio Dividend Date Ex-Dividend Date  \\\n",
       "94                          4.11       59.72%           N/A     Feb 18, 2020   \n",
       "95                           N/A       29.00%           N/A     Nov 28, 2019   \n",
       "96                          4.70       82.56%           N/A     Jan 14, 2020   \n",
       "97                                                                             \n",
       "98                           N/A       47.82%           N/A     Apr 26, 2019   \n",
       "\n",
       "   Last Split Factor Last Split Date  \\\n",
       "94               2:1    Jun 27, 2017   \n",
       "95               N/A             N/A   \n",
       "96               2:1    Feb 20, 2006   \n",
       "97                                     \n",
       "98               N/A             N/A   \n",
       "\n",
       "                                  ScrapedName                  Sector  \n",
       "94   ACS,ACTIVIDADES DE CONSTRUCCION (ACS.MC)             Industrials  \n",
       "95   INTL CONSOLIDATED AIRLINES GROU (IAG.MC)                          \n",
       "96                        PRIM, S.A. (PRM.MC)                          \n",
       "97                                                                     \n",
       "98   MEDIASET ESPANA COMUNICACION, S (TL5.MC)  Communication Services  \n",
       "\n",
       "[5 rows x 61 columns]"
      ]
     },
     "execution_count": 191,
     "metadata": {},
     "output_type": "execute_result"
    }
   ],
   "source": [
    "df_tikers.tail()"
   ]
  }
 ],
 "metadata": {
  "kernelspec": {
   "display_name": "Python 3",
   "language": "python",
   "name": "python3"
  },
  "language_info": {
   "codemirror_mode": {
    "name": "ipython",
    "version": 3
   },
   "file_extension": ".py",
   "mimetype": "text/x-python",
   "name": "python",
   "nbconvert_exporter": "python",
   "pygments_lexer": "ipython3",
   "version": "3.7.6"
  }
 },
 "nbformat": 4,
 "nbformat_minor": 2
}
